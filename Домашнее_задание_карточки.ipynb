{
  "nbformat": 4,
  "nbformat_minor": 0,
  "metadata": {
    "colab": {
      "provenance": [],
      "authorship_tag": "ABX9TyMJEIqDWcgiIzFr+stYFyYQ",
      "include_colab_link": true
    },
    "kernelspec": {
      "name": "python3",
      "display_name": "Python 3"
    },
    "language_info": {
      "name": "python"
    }
  },
  "cells": [
    {
      "cell_type": "markdown",
      "metadata": {
        "id": "view-in-github",
        "colab_type": "text"
      },
      "source": [
        "<a href=\"https://colab.research.google.com/github/BroMaArago/MyHomeworkMaximilian/blob/main/%D0%94%D0%BE%D0%BC%D0%B0%D1%88%D0%BD%D0%B5%D0%B5_%D0%B7%D0%B0%D0%B4%D0%B0%D0%BD%D0%B8%D0%B5_%D0%BA%D0%B0%D1%80%D1%82%D0%BE%D1%87%D0%BA%D0%B8.ipynb\" target=\"_parent\"><img src=\"https://colab.research.google.com/assets/colab-badge.svg\" alt=\"Open In Colab\"/></a>"
      ]
    },
    {
      "cell_type": "code",
      "execution_count": null,
      "metadata": {
        "colab": {
          "base_uri": "https://localhost:8080/"
        },
        "id": "pXrNcrJ1VGMT",
        "outputId": "c889880b-d6bc-4967-8ac0-5397719d7e99"
      },
      "outputs": [
        {
          "output_type": "stream",
          "name": "stdout",
          "text": [
            "Collecting Cinemagoer\n",
            "  Downloading cinemagoer-2023.5.1-py3-none-any.whl (297 kB)\n",
            "\u001b[?25l     \u001b[90m━━━━━━━━━━━━━━━━━━━━━━━━━━━━━━━━━━━━━━━━\u001b[0m \u001b[32m0.0/297.2 kB\u001b[0m \u001b[31m?\u001b[0m eta \u001b[36m-:--:--\u001b[0m\r\u001b[2K     \u001b[91m━━━━━━━━━━━━━━━━━━━━━━━\u001b[0m\u001b[90m╺\u001b[0m\u001b[90m━━━━━━━━━━━━━━━━\u001b[0m \u001b[32m174.1/297.2 kB\u001b[0m \u001b[31m4.9 MB/s\u001b[0m eta \u001b[36m0:00:01\u001b[0m\r\u001b[2K     \u001b[90m━━━━━━━━━━━━━━━━━━━━━━━━━━━━━━━━━━━━━━━━\u001b[0m \u001b[32m297.2/297.2 kB\u001b[0m \u001b[31m6.7 MB/s\u001b[0m eta \u001b[36m0:00:00\u001b[0m\n",
            "\u001b[?25hRequirement already satisfied: SQLAlchemy in /usr/local/lib/python3.10/dist-packages (from Cinemagoer) (2.0.23)\n",
            "Requirement already satisfied: lxml in /usr/local/lib/python3.10/dist-packages (from Cinemagoer) (4.9.3)\n",
            "Requirement already satisfied: typing-extensions>=4.2.0 in /usr/local/lib/python3.10/dist-packages (from SQLAlchemy->Cinemagoer) (4.5.0)\n",
            "Requirement already satisfied: greenlet!=0.4.17 in /usr/local/lib/python3.10/dist-packages (from SQLAlchemy->Cinemagoer) (3.0.1)\n",
            "Installing collected packages: Cinemagoer\n",
            "Successfully installed Cinemagoer-2023.5.1\n"
          ]
        }
      ],
      "source": [
        "!pip install Cinemagoer"
      ]
    },
    {
      "cell_type": "code",
      "source": [
        "from imdb import Cinemagoer\n",
        "\n",
        "# создаем класс Cinemagoer\n",
        "ia = Cinemagoer()\n",
        "\n",
        "# получаем информацию про фильм по ID в IMDB https://www.imdb.com/title/tt###\n",
        "movie = ia.get_movie('0057076')"
      ],
      "metadata": {
        "id": "1z4OCOF9VQy3"
      },
      "execution_count": 38,
      "outputs": []
    },
    {
      "cell_type": "code",
      "source": [
        "# 1. Хранилище для карточек\n",
        "\n",
        "cards = []"
      ],
      "metadata": {
        "id": "ub2LuA6KVZ7D"
      },
      "execution_count": 39,
      "outputs": []
    },
    {
      "cell_type": "code",
      "source": [
        "for actor in movie['cast'][:5]:\n",
        "  person = ia.search_person(actor['name'])\n",
        "  person_info = ia.get_person(person[0].personID)\n",
        "# Создаем пустые хранилища, из которых мы будем собирать карточку актера\n",
        "full_info = dict()\n",
        "genres = []\n",
        "years = []\n",
        "languages_list = []\n",
        "titles = []\n",
        "ratings = []\n",
        "\n",
        "# Обрабатываем фильмографию\n",
        "if 'actor' in person_info['filmography'].keys():\n",
        "    for i in range(5):\n",
        "      titles.append(person_info['filmography']['actor'][i]['title'])\n",
        "else:\n",
        "    for i in range(5):\n",
        "      titles.append(person_info['filmography']['actress'][i]['title'])\n",
        "# Итерации по фильмам\n",
        "for title in titles:\n",
        "    titles_list = ia.search_movie(title)\n",
        "    movie = ia.get_movie(titles_list[0].movieID)\n",
        "\n",
        "    genre = movie['genres'][0]\n",
        "    genres.append(genre)\n",
        "\n",
        "    if 'year' in movie.keys():\n",
        "      year = movie['year']\n",
        "      years.append(year)\n",
        "      if 'languages' in movie.keys():\n",
        "        language = movie.get('languages')\n",
        "        languages_list.append(language[0])\n",
        "\n",
        "    if 'rating' in movie.keys():\n",
        "      rating = movie['rating']\n",
        "      ratings.append(rating)\n",
        "#Собираем карточку, формируем словарь по ключам\n",
        "\n",
        "full_info['titles'] = title\n",
        "full_info['years'] = set(years)\n",
        "full_info['genres'] = set(genres)\n",
        "full_info['languages'] = set(languages_list)\n",
        "full_info['ratings'] = ratings\n",
        "\n",
        "cards.append({person_info['canonical name']: full_info})\n",
        "\n",
        "cards\n"
      ],
      "metadata": {
        "id": "OuBUhP9pVcer",
        "colab": {
          "base_uri": "https://localhost:8080/"
        },
        "outputId": "bfff5c4a-21f5-40e1-bd65-06c0b2a7c6b1"
      },
      "execution_count": 46,
      "outputs": [
        {
          "output_type": "execute_result",
          "data": {
            "text/plain": [
              "[{'Shaw, Robert': {'titles': 'Black Sunday',\n",
              "   'years': {1960, 1977, 1978, 1979, 2000},\n",
              "   'genres': {'Action', 'Adventure', 'Horror', 'Short'},\n",
              "   'languages': {'English', 'Italian'},\n",
              "   'ratings': [6.9, 4.9, 6.4, 6.2, 7.1]}},\n",
              " {'Passante, Mario': {'titles': 'La donna degli altri è sempre più bella',\n",
              "   'years': {1963, 1964, 1966, 2022},\n",
              "   'genres': {'Action', 'Adventure', 'Comedy', 'Drama'},\n",
              "   'languages': {'French', 'Italian'},\n",
              "   'ratings': [6.2, 5.6, 6.3]}},\n",
              " {'Pierobon, Paolo': {'titles': 'With the Grace of a God',\n",
              "   'years': {2023},\n",
              "   'genres': {'Biography', 'Comedy', 'Drama'},\n",
              "   'languages': {'Italian'},\n",
              "   'ratings': [6.9, 6.9]}},\n",
              " {'Romano, Sergio': {'titles': 'La fuggitiva',\n",
              "   'years': {1995, 2020, 2021, 2023},\n",
              "   'genres': {'Crime', 'Drama'},\n",
              "   'languages': {'English', 'German', 'Italian'},\n",
              "   'ratings': [6.8, 4.7, 5.3]}}]"
            ]
          },
          "metadata": {},
          "execution_count": 46
        }
      ]
    },
    {
      "cell_type": "code",
      "source": [
        "from pprint import pprint\n",
        "\n",
        "pprint(cards)"
      ],
      "metadata": {
        "colab": {
          "base_uri": "https://localhost:8080/"
        },
        "id": "v2ah-_hPXQC6",
        "outputId": "0489a797-480f-4241-a980-6cd5945df6eb"
      },
      "execution_count": 47,
      "outputs": [
        {
          "output_type": "stream",
          "name": "stdout",
          "text": [
            "[{'Shaw, Robert': {'genres': {'Short', 'Horror', 'Adventure', 'Action'},\n",
            "                   'languages': {'English', 'Italian'},\n",
            "                   'ratings': [6.9, 4.9, 6.4, 6.2, 7.1],\n",
            "                   'titles': 'Black Sunday',\n",
            "                   'years': {1960, 2000, 1977, 1978, 1979}}},\n",
            " {'Passante, Mario': {'genres': {'Comedy', 'Action', 'Adventure', 'Drama'},\n",
            "                      'languages': {'Italian', 'French'},\n",
            "                      'ratings': [6.2, 5.6, 6.3],\n",
            "                      'titles': 'La donna degli altri è sempre più bella',\n",
            "                      'years': {2022, 1963, 1964, 1966}}},\n",
            " {'Pierobon, Paolo': {'genres': {'Biography', 'Drama', 'Comedy'},\n",
            "                      'languages': {'Italian'},\n",
            "                      'ratings': [6.9, 6.9],\n",
            "                      'titles': 'With the Grace of a God',\n",
            "                      'years': {2023}}},\n",
            " {'Romano, Sergio': {'genres': {'Crime', 'Drama'},\n",
            "                     'languages': {'English', 'Italian', 'German'},\n",
            "                     'ratings': [6.8, 4.7, 5.3],\n",
            "                     'titles': 'La fuggitiva',\n",
            "                     'years': {1995, 2020, 2021, 2023}}}]\n"
          ]
        }
      ]
    }
  ]
}