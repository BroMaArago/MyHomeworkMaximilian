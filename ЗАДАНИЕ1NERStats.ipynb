{
  "nbformat": 4,
  "nbformat_minor": 0,
  "metadata": {
    "colab": {
      "provenance": [],
      "authorship_tag": "ABX9TyP2A9YFMze7gETq5O68ZtRq",
      "include_colab_link": true
    },
    "kernelspec": {
      "name": "python3",
      "display_name": "Python 3"
    },
    "language_info": {
      "name": "python"
    }
  },
  "cells": [
    {
      "cell_type": "markdown",
      "metadata": {
        "id": "view-in-github",
        "colab_type": "text"
      },
      "source": [
        "<a href=\"https://colab.research.google.com/github/BroMaArago/MyHomeworkMaximilian/blob/main/%D0%97%D0%90%D0%94%D0%90%D0%9D%D0%98%D0%951NERStats.ipynb\" target=\"_parent\"><img src=\"https://colab.research.google.com/assets/colab-badge.svg\" alt=\"Open In Colab\"/></a>"
      ]
    },
    {
      "cell_type": "code",
      "source": [
        "import spacy"
      ],
      "metadata": {
        "id": "HSTqRUaKsu8Y"
      },
      "execution_count": null,
      "outputs": []
    },
    {
      "cell_type": "code",
      "source": [
        "from collections import Counter"
      ],
      "metadata": {
        "id": "8kNGHWSlsx-5"
      },
      "execution_count": null,
      "outputs": []
    },
    {
      "cell_type": "code",
      "execution_count": null,
      "metadata": {
        "id": "foQuLKBVskcj"
      },
      "outputs": [],
      "source": [
        "class NERExtractor:\n",
        "    def __init__(self, document):\n",
        "        self.document = document\n",
        "        self.nlp = spacy.load(\"en_core_web_sm\")\n",
        "\n",
        "    def extract_named_entities(self):\n",
        "        doc = self.nlp(self.document)\n",
        "        entities = [(ent.text, ent.label_) for ent in doc.ents]\n",
        "        return entities\n",
        "\n",
        "class NERStats:\n",
        "    def __init__(self, document):\n",
        "        self.document = document\n",
        "\n",
        "    def analyze_entities(self):\n",
        "        ner_extractor = NERExtractor(self.document)\n",
        "        entities = ner_extractor.extract_named_entities()\n",
        "        self.entity_count = Counter(entities)\n",
        "\n",
        "    def display_most_common_entities(self, n):\n",
        "        most_common = self.entity_count.most_common(n)\n",
        "        for entity, count in most_common:\n",
        "            print(f'{entity}: {count}')\n",
        "\n",
        "document = \" Хлебное поле, недокошенное, недоубранное, долго сопротивлялось ветру и холоду, ждало своего сеятеля и пахаря до снегов. \"\n",
        "ner_stats = NERStats(document)\n",
        "ner_stats.analyze_entities()\n",
        "ner_stats.display_most_common_entities(10)\n"
      ]
    }
  ]
}