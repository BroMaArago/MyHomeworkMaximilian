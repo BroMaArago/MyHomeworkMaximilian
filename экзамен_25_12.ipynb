{
  "nbformat": 4,
  "nbformat_minor": 0,
  "metadata": {
    "colab": {
      "provenance": [],
      "authorship_tag": "ABX9TyOe4N+xAkEl1IH3/LGdmRz6",
      "include_colab_link": true
    },
    "kernelspec": {
      "name": "python3",
      "display_name": "Python 3"
    },
    "language_info": {
      "name": "python"
    }
  },
  "cells": [
    {
      "cell_type": "markdown",
      "metadata": {
        "id": "view-in-github",
        "colab_type": "text"
      },
      "source": [
        "<a href=\"https://colab.research.google.com/github/BroMaArago/MyHomeworkMaximilian/blob/main/%D1%8D%D0%BA%D0%B7%D0%B0%D0%BC%D0%B5%D0%BD_25_12.ipynb\" target=\"_parent\"><img src=\"https://colab.research.google.com/assets/colab-badge.svg\" alt=\"Open In Colab\"/></a>"
      ]
    },
    {
      "cell_type": "code",
      "source": [
        "!wget https://raw.githubusercontent.com/BroMaArago/AboutMe/main/text"
      ],
      "metadata": {
        "colab": {
          "base_uri": "https://localhost:8080/"
        },
        "id": "l3cyQO8nTgzQ",
        "outputId": "3d8143c5-31b5-4876-d69a-848dea2987e6"
      },
      "execution_count": 63,
      "outputs": [
        {
          "output_type": "stream",
          "name": "stdout",
          "text": [
            "--2023-12-25 15:06:34--  https://raw.githubusercontent.com/BroMaArago/AboutMe/main/text\n",
            "Resolving raw.githubusercontent.com (raw.githubusercontent.com)... 185.199.108.133, 185.199.109.133, 185.199.110.133, ...\n",
            "Connecting to raw.githubusercontent.com (raw.githubusercontent.com)|185.199.108.133|:443... connected.\n",
            "HTTP request sent, awaiting response... 200 OK\n",
            "Length: 42375 (41K) [text/plain]\n",
            "Saving to: ‘text.1’\n",
            "\n",
            "\rtext.1                0%[                    ]       0  --.-KB/s               \rtext.1              100%[===================>]  41.38K  --.-KB/s    in 0.01s   \n",
            "\n",
            "2023-12-25 15:06:34 (3.86 MB/s) - ‘text.1’ saved [42375/42375]\n",
            "\n"
          ]
        }
      ]
    },
    {
      "cell_type": "code",
      "source": [
        "import re\n",
        "import string\n",
        "from collections import Counter\n",
        "from urllib.request import urlopen"
      ],
      "metadata": {
        "id": "QDyvNLUKsfwd"
      },
      "execution_count": null,
      "outputs": []
    },
    {
      "cell_type": "code",
      "source": [
        "\n",
        "# Функция для открытия файла из URL\n",
        "def open_file_from_url(url):\n",
        "    try:\n",
        "        with urlopen(url) as file:\n",
        "            return file.read().decode('utf-8')  # Считываем и декодируем содержимое файла\n",
        "    except Exception as e:\n",
        "        return str(e)  # Возвращаем описание ошибки, если не"
      ],
      "metadata": {
        "id": "_K3BMKmgsjxN"
      },
      "execution_count": 95,
      "outputs": []
    },
    {
      "cell_type": "code",
      "source": [
        "# Функция для токенизации текста\n",
        "def tokenize_text(text):\n",
        "    text = text.lower()  # Приводим текст к нижнему регистру\n",
        "    text = re.sub(f\"[{string.punctuation}]\", \" \", text)  # Удаляем знаки препинания\n",
        "    return text.split()  # Разбиваем текст на слова"
      ],
      "metadata": {
        "id": "e865-YAdsmnR"
      },
      "execution_count": 101,
      "outputs": []
    },
    {
      "cell_type": "code",
      "source": [
        "from nltk.corpus import stopwords\n",
        "\n",
        "def remove_stopwords(tokens):\n",
        "    stop_words = set(stopwords.words('english'))\n",
        "    filtered_tokens = [word for word in tokens if word.lower() not in stop_words]\n",
        "    return filtered_tokens"
      ],
      "metadata": {
        "id": "kiq6qL2rsqgf"
      },
      "execution_count": 103,
      "outputs": []
    },
    {
      "cell_type": "code",
      "source": [
        "# Функция для анализа частотности слов в тексте\n",
        "def word_frequency_analysis(text, n=5):\n",
        "    tokens = tokenize_text(text)  # Токенизируем текст\n",
        "    tokens = remove_stopwords(tokens)  # Удаляем стоп-слова\n",
        "    frequency = Counter(tokens)  # Подсчитываем частоту каждого слова\n",
        "    return frequency.most_common(n)  # Возвращаем n самых частых слов\n"
      ],
      "metadata": {
        "id": "Ssoo1-b1ss3A"
      },
      "execution_count": 98,
      "outputs": []
    },
    {
      "cell_type": "code",
      "source": [
        "# URL текстового файла\n",
        "url = 'https://raw.githubusercontent.com/brunoklein99/deep-learning-notes/master/shakespeare.txt'\n",
        "\n",
        "# Выполнение анализа частотности слов\n",
        "text = open_file_from_url(url)  # Открываем файл по URL\n",
        "result = word_frequency_analysis(text, 5)  # Анализируем частотность слов\n",
        "print(result)  # Выводим результат"
      ],
      "metadata": {
        "colab": {
          "base_uri": "https://localhost:8080/"
        },
        "id": "Sk2rIKVesvLI",
        "outputId": "47cbbe7c-e735-4ac4-e583-194809451f90"
      },
      "execution_count": 104,
      "outputs": [
        {
          "output_type": "stream",
          "name": "stdout",
          "text": [
            "[('thy', 287), ('thou', 235), ('love', 194), ('thee', 162), ('self', 88)]\n"
          ]
        }
      ]
    },
    {
      "cell_type": "markdown",
      "source": [
        "# Новый раздел"
      ],
      "metadata": {
        "id": "U3sI95vCU0Dv"
      }
    }
  ]
}