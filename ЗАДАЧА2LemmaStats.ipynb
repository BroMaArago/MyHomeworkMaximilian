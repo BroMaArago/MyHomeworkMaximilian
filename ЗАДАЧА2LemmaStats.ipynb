{
  "nbformat": 4,
  "nbformat_minor": 0,
  "metadata": {
    "colab": {
      "provenance": [],
      "authorship_tag": "ABX9TyPUNlEiNj96FaIp0pPJdjp2"
    },
    "kernelspec": {
      "name": "python3",
      "display_name": "Python 3"
    },
    "language_info": {
      "name": "python"
    }
  },
  "cells": [
    {
      "cell_type": "code",
      "execution_count": null,
      "metadata": {
        "id": "Gz0Z6OIYoLYh"
      },
      "outputs": [],
      "source": [
        "!python -m spacy download ru_core_news_sm"
      ]
    },
    {
      "cell_type": "code",
      "source": [
        "import spacy\n",
        "from collections import Counter\n",
        "\n",
        "class LemmaStats:\n",
        "    def __init__(self, document):\n",
        "        self.document = document\n",
        "        self.nlp = spacy.load(\"ru_core_news_sm\")\n",
        "\n",
        "    def lemmatize(self):\n",
        "        doc = self.nlp(self.document)\n",
        "        self.lemmas = [token.lemma_ for token in doc if not token.is_punct]\n",
        "        self.lemma_counts = Counter(self.lemmas)\n",
        "\n",
        "    def display_most_common_lemmas(self, n):\n",
        "        most_common = self.lemma_counts.most_common(n)\n",
        "        for lemma, count in most_common:\n",
        "            print(f\"{lemma}: {count}\")\n",
        "document = \"В прозрачный осенний день, взбодренный первым студеным утренником, от которого до высокого солнца сверкал всюду иней и до полудни белело под деревьями, за огородами частоколов, в заустенье хат, передовые части двух советских фронтов вышли к берегу Великой реки\"\n",
        "lemma_stats = LemmaStats(document)\n",
        "lemma_stats.lemmatize()\n",
        "lemma_stats.display_most_common_lemmas(10)  # 10 самых частотных лемм\n"
      ],
      "metadata": {
        "colab": {
          "base_uri": "https://localhost:8080/"
        },
        "id": "6mq5dIuuoTCy",
        "outputId": "e62d9a65-1f3d-4cb9-d502-f6533ed9628d"
      },
      "execution_count": null,
      "outputs": [
        {
          "output_type": "stream",
          "name": "stdout",
          "text": [
            "в: 2\n",
            "до: 2\n",
            "прозрачный: 1\n",
            "осенний: 1\n",
            "день: 1\n",
            "взбодрить: 1\n",
            "первый: 1\n",
            "студёный: 1\n",
            "утренник: 1\n",
            "от: 1\n"
          ]
        }
      ]
    }
  ]
}