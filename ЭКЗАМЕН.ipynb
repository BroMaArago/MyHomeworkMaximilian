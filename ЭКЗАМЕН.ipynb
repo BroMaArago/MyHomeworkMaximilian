{
  "nbformat": 4,
  "nbformat_minor": 0,
  "metadata": {
    "colab": {
      "provenance": [],
      "authorship_tag": "ABX9TyNPfOMQ4n97fSDxgvpO8AwA",
      "include_colab_link": true
    },
    "kernelspec": {
      "name": "python3",
      "display_name": "Python 3"
    },
    "language_info": {
      "name": "python"
    }
  },
  "cells": [
    {
      "cell_type": "markdown",
      "metadata": {
        "id": "view-in-github",
        "colab_type": "text"
      },
      "source": [
        "<a href=\"https://colab.research.google.com/github/BroMaArago/MyHomeworkMaximilian/blob/main/%D0%AD%D0%9A%D0%97%D0%90%D0%9C%D0%95%D0%9D.ipynb\" target=\"_parent\"><img src=\"https://colab.research.google.com/assets/colab-badge.svg\" alt=\"Open In Colab\"/></a>"
      ]
    },
    {
      "cell_type": "code",
      "source": [
        "!wget https://raw.githubusercontent.com/brunoklein99/deep-learning-notes/master/shakespeare.txt"
      ],
      "metadata": {
        "colab": {
          "base_uri": "https://localhost:8080/"
        },
        "id": "DDBn86WRlR2u",
        "outputId": "c0300b7f-6326-4014-eb7d-a065cb38936e"
      },
      "execution_count": 3,
      "outputs": [
        {
          "output_type": "stream",
          "name": "stdout",
          "text": [
            "--2023-12-25 15:26:38--  https://raw.githubusercontent.com/brunoklein99/deep-learning-notes/master/shakespeare.txt\n",
            "Resolving raw.githubusercontent.com (raw.githubusercontent.com)... 185.199.108.133, 185.199.109.133, 185.199.110.133, ...\n",
            "Connecting to raw.githubusercontent.com (raw.githubusercontent.com)|185.199.108.133|:443... connected.\n",
            "HTTP request sent, awaiting response... 200 OK\n",
            "Length: 94275 (92K) [text/plain]\n",
            "Saving to: ‘shakespeare.txt’\n",
            "\n",
            "shakespeare.txt     100%[===================>]  92.07K  --.-KB/s    in 0.01s   \n",
            "\n",
            "2023-12-25 15:26:38 (6.72 MB/s) - ‘shakespeare.txt’ saved [94275/94275]\n",
            "\n"
          ]
        }
      ]
    },
    {
      "cell_type": "code",
      "execution_count": 11,
      "metadata": {
        "colab": {
          "base_uri": "https://localhost:8080/"
        },
        "id": "dLTLtdfclJcB",
        "outputId": "2c2ab1ff-7fd7-40a5-f25c-aa87105981d1"
      },
      "outputs": [
        {
          "output_type": "stream",
          "name": "stdout",
          "text": [
            "[('and', 490), ('the', 432), ('to', 414), ('my', 393), ('of', 370)]\n"
          ]
        }
      ],
      "source": [
        "import re\n",
        "import string\n",
        "from collections import Counter\n",
        "from urllib.request import urlopen\n",
        "\n",
        "# Функция для открытия файла из URL\n",
        "def open_file_from_url(url):\n",
        "    try:\n",
        "        with urlopen(url) as file:\n",
        "            return file.read().decode('utf-8')  # Считываем и декодируем содержимое файла\n",
        "    except Exception as e:\n",
        "        return str(e)  # Возвращаем описание ошибки, если не удается открыть файл\n",
        "\n",
        "# Функция для токенизации текста\n",
        "def tokenize_text(text):\n",
        "    text = text.lower()  # Приводим текст к нижнему регистру\n",
        "    text = re.sub(f\"[{string.punctuation}]\", \" \", text)  # Удаляем знаки препинания\n",
        "    return text.split()  # Разбиваем текст на слова\n",
        "\n",
        "# Функция для удаления стоп-слов из списка токенов\n",
        "def remove_stopwords(tokens, stopwords=set()):\n",
        "    return [token for token in tokens if token not in stopwords]  # Возвращаем список слов без стоп-слов\n",
        "\n",
        "# Функция для анализа частотности слов в тексте\n",
        "def word_frequency_analysis(text, n=5):\n",
        "    tokens = tokenize_text(text)  # Токенизируем текст\n",
        "    tokens = remove_stopwords(tokens)  # Удаляем стоп-слова\n",
        "    frequency = Counter(tokens)  # Подсчитываем частоту каждого слова\n",
        "    return frequency.most_common(n)  # Возвращаем n самых частых слов\n",
        "\n",
        "# URL текстового файла\n",
        "url = 'https://raw.githubusercontent.com/brunoklein99/deep-learning-notes/master/shakespeare.txt'\n",
        "\n",
        "# Выполнение анализа частотности слов\n",
        "text = open_file_from_url(url)  # Открываем файл по URL\n",
        "result = word_frequency_analysis(text, 5)  # Анализируем частотность слов\n",
        "print(result)  # Выводим результат"
      ]
    }
  ]
}